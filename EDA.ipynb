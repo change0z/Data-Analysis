{
 "cells": [
  {
   "cell_type": "code",
   "execution_count": 1,
   "metadata": {},
   "outputs": [],
   "source": [
    "import numpy as np\n",
    "import pandas as pd\n",
    "import seaborn as sns\n",
    "import matplotlib as mpl\n",
    "import plotly.express as px\n",
    "import matplotlib.pyplot as plt\n",
    "from scipy.stats import chi2_contingency"
   ]
  },
  {
   "cell_type": "code",
   "execution_count": 2,
   "metadata": {},
   "outputs": [],
   "source": [
    "df = pd.read_csv('/home/ziyad/Desktop/Datasets/Tree Survival Prediction/Tree_Data.csv')"
   ]
  },
  {
   "cell_type": "code",
   "execution_count": 6,
   "metadata": {},
   "outputs": [
    {
     "data": {
      "text/html": [
       "<div>\n",
       "<style scoped>\n",
       "    .dataframe tbody tr th:only-of-type {\n",
       "        vertical-align: middle;\n",
       "    }\n",
       "\n",
       "    .dataframe tbody tr th {\n",
       "        vertical-align: top;\n",
       "    }\n",
       "\n",
       "    .dataframe thead th {\n",
       "        text-align: right;\n",
       "    }\n",
       "</style>\n",
       "<table border=\"1\" class=\"dataframe\">\n",
       "  <thead>\n",
       "    <tr style=\"text-align: right;\">\n",
       "      <th></th>\n",
       "      <th>No</th>\n",
       "      <th>Plot</th>\n",
       "      <th>Subplot</th>\n",
       "      <th>Species</th>\n",
       "      <th>Light_ISF</th>\n",
       "      <th>Light_Cat</th>\n",
       "      <th>Core</th>\n",
       "      <th>Soil</th>\n",
       "      <th>Adult</th>\n",
       "      <th>Sterile</th>\n",
       "      <th>...</th>\n",
       "      <th>AMF</th>\n",
       "      <th>EMF</th>\n",
       "      <th>Phenolics</th>\n",
       "      <th>Lignin</th>\n",
       "      <th>NSC</th>\n",
       "      <th>Census</th>\n",
       "      <th>Time</th>\n",
       "      <th>Event</th>\n",
       "      <th>Harvest</th>\n",
       "      <th>Alive</th>\n",
       "    </tr>\n",
       "  </thead>\n",
       "  <tbody>\n",
       "    <tr>\n",
       "      <th>0</th>\n",
       "      <td>126</td>\n",
       "      <td>1</td>\n",
       "      <td>C</td>\n",
       "      <td>Acer saccharum</td>\n",
       "      <td>0.106</td>\n",
       "      <td>Med</td>\n",
       "      <td>2017</td>\n",
       "      <td>Prunus serotina</td>\n",
       "      <td>I</td>\n",
       "      <td>Non-Sterile</td>\n",
       "      <td>...</td>\n",
       "      <td>22.00</td>\n",
       "      <td>NaN</td>\n",
       "      <td>-0.56</td>\n",
       "      <td>13.86</td>\n",
       "      <td>12.15</td>\n",
       "      <td>4</td>\n",
       "      <td>14.0</td>\n",
       "      <td>1.0</td>\n",
       "      <td>NaN</td>\n",
       "      <td>NaN</td>\n",
       "    </tr>\n",
       "    <tr>\n",
       "      <th>1</th>\n",
       "      <td>11</td>\n",
       "      <td>1</td>\n",
       "      <td>C</td>\n",
       "      <td>Quercus alba</td>\n",
       "      <td>0.106</td>\n",
       "      <td>Med</td>\n",
       "      <td>2017</td>\n",
       "      <td>Quercus rubra</td>\n",
       "      <td>970</td>\n",
       "      <td>Non-Sterile</td>\n",
       "      <td>...</td>\n",
       "      <td>15.82</td>\n",
       "      <td>31.07</td>\n",
       "      <td>5.19</td>\n",
       "      <td>20.52</td>\n",
       "      <td>19.29</td>\n",
       "      <td>33</td>\n",
       "      <td>115.5</td>\n",
       "      <td>0.0</td>\n",
       "      <td>NaN</td>\n",
       "      <td>X</td>\n",
       "    </tr>\n",
       "    <tr>\n",
       "      <th>2</th>\n",
       "      <td>12</td>\n",
       "      <td>1</td>\n",
       "      <td>C</td>\n",
       "      <td>Quercus rubra</td>\n",
       "      <td>0.106</td>\n",
       "      <td>Med</td>\n",
       "      <td>2017</td>\n",
       "      <td>Prunus serotina</td>\n",
       "      <td>J</td>\n",
       "      <td>Non-Sterile</td>\n",
       "      <td>...</td>\n",
       "      <td>24.45</td>\n",
       "      <td>28.19</td>\n",
       "      <td>3.36</td>\n",
       "      <td>24.74</td>\n",
       "      <td>15.01</td>\n",
       "      <td>18</td>\n",
       "      <td>63.0</td>\n",
       "      <td>1.0</td>\n",
       "      <td>NaN</td>\n",
       "      <td>NaN</td>\n",
       "    </tr>\n",
       "    <tr>\n",
       "      <th>3</th>\n",
       "      <td>2823</td>\n",
       "      <td>7</td>\n",
       "      <td>D</td>\n",
       "      <td>Acer saccharum</td>\n",
       "      <td>0.080</td>\n",
       "      <td>Med</td>\n",
       "      <td>2016</td>\n",
       "      <td>Prunus serotina</td>\n",
       "      <td>J</td>\n",
       "      <td>Non-Sterile</td>\n",
       "      <td>...</td>\n",
       "      <td>22.23</td>\n",
       "      <td>NaN</td>\n",
       "      <td>-0.71</td>\n",
       "      <td>14.29</td>\n",
       "      <td>12.36</td>\n",
       "      <td>4</td>\n",
       "      <td>14.0</td>\n",
       "      <td>1.0</td>\n",
       "      <td>NaN</td>\n",
       "      <td>NaN</td>\n",
       "    </tr>\n",
       "    <tr>\n",
       "      <th>4</th>\n",
       "      <td>5679</td>\n",
       "      <td>14</td>\n",
       "      <td>A</td>\n",
       "      <td>Acer saccharum</td>\n",
       "      <td>0.060</td>\n",
       "      <td>Low</td>\n",
       "      <td>2017</td>\n",
       "      <td>Prunus serotina</td>\n",
       "      <td>689</td>\n",
       "      <td>Non-Sterile</td>\n",
       "      <td>...</td>\n",
       "      <td>21.15</td>\n",
       "      <td>NaN</td>\n",
       "      <td>-0.58</td>\n",
       "      <td>10.85</td>\n",
       "      <td>11.20</td>\n",
       "      <td>4</td>\n",
       "      <td>14.0</td>\n",
       "      <td>1.0</td>\n",
       "      <td>NaN</td>\n",
       "      <td>NaN</td>\n",
       "    </tr>\n",
       "  </tbody>\n",
       "</table>\n",
       "<p>5 rows × 24 columns</p>\n",
       "</div>"
      ],
      "text/plain": [
       "     No  Plot Subplot         Species  Light_ISF Light_Cat  Core  \\\n",
       "0   126     1       C  Acer saccharum      0.106       Med  2017   \n",
       "1    11     1       C    Quercus alba      0.106       Med  2017   \n",
       "2    12     1       C   Quercus rubra      0.106       Med  2017   \n",
       "3  2823     7       D  Acer saccharum      0.080       Med  2016   \n",
       "4  5679    14       A  Acer saccharum      0.060       Low  2017   \n",
       "\n",
       "              Soil Adult      Sterile  ...    AMF    EMF Phenolics Lignin  \\\n",
       "0  Prunus serotina     I  Non-Sterile  ...  22.00    NaN     -0.56  13.86   \n",
       "1    Quercus rubra   970  Non-Sterile  ...  15.82  31.07      5.19  20.52   \n",
       "2  Prunus serotina     J  Non-Sterile  ...  24.45  28.19      3.36  24.74   \n",
       "3  Prunus serotina     J  Non-Sterile  ...  22.23    NaN     -0.71  14.29   \n",
       "4  Prunus serotina   689  Non-Sterile  ...  21.15    NaN     -0.58  10.85   \n",
       "\n",
       "     NSC  Census   Time  Event  Harvest  Alive  \n",
       "0  12.15       4   14.0    1.0      NaN    NaN  \n",
       "1  19.29      33  115.5    0.0      NaN      X  \n",
       "2  15.01      18   63.0    1.0      NaN    NaN  \n",
       "3  12.36       4   14.0    1.0      NaN    NaN  \n",
       "4  11.20       4   14.0    1.0      NaN    NaN  \n",
       "\n",
       "[5 rows x 24 columns]"
      ]
     },
     "execution_count": 6,
     "metadata": {},
     "output_type": "execute_result"
    }
   ],
   "source": [
    "df.head()"
   ]
  },
  {
   "cell_type": "code",
   "execution_count": 4,
   "metadata": {},
   "outputs": [
    {
     "name": "stdout",
     "output_type": "stream",
     "text": [
      "<class 'pandas.core.frame.DataFrame'>\n",
      "RangeIndex: 2783 entries, 0 to 2782\n",
      "Data columns (total 24 columns):\n",
      " #   Column       Non-Null Count  Dtype  \n",
      "---  ------       --------------  -----  \n",
      " 0   No           2783 non-null   int64  \n",
      " 1   Plot         2783 non-null   int64  \n",
      " 2   Subplot      2783 non-null   object \n",
      " 3   Species      2783 non-null   object \n",
      " 4   Light_ISF    2783 non-null   float64\n",
      " 5   Light_Cat    2783 non-null   object \n",
      " 6   Core         2783 non-null   int64  \n",
      " 7   Soil         2783 non-null   object \n",
      " 8   Adult        2783 non-null   object \n",
      " 9   Sterile      2783 non-null   object \n",
      " 10  Conspecific  2783 non-null   object \n",
      " 11  Myco         2783 non-null   object \n",
      " 12  SoilMyco     2783 non-null   object \n",
      " 13  PlantDate    2783 non-null   object \n",
      " 14  AMF          2783 non-null   float64\n",
      " 15  EMF          1283 non-null   float64\n",
      " 16  Phenolics    2783 non-null   float64\n",
      " 17  Lignin       2783 non-null   float64\n",
      " 18  NSC          2783 non-null   float64\n",
      " 19  Census       2783 non-null   int64  \n",
      " 20  Time         2783 non-null   float64\n",
      " 21  Event        2782 non-null   float64\n",
      " 22  Harvest      704 non-null    object \n",
      " 23  Alive        491 non-null    object \n",
      "dtypes: float64(8), int64(4), object(12)\n",
      "memory usage: 521.9+ KB\n"
     ]
    }
   ],
   "source": [
    "df.info()"
   ]
  },
  {
   "cell_type": "code",
   "execution_count": 6,
   "metadata": {},
   "outputs": [
    {
     "name": "stdout",
     "output_type": "stream",
     "text": [
      "-------------Columns and Data Types-------------\n",
      "No: int64\n",
      "Plot: int64\n",
      "Subplot: object\n",
      "Species: object\n",
      "Light_ISF: float64\n",
      "Light_Cat: object\n",
      "Core: int64\n",
      "Soil: object\n",
      "Adult: object\n",
      "Sterile: object\n",
      "Conspecific: object\n",
      "Myco: object\n",
      "SoilMyco: object\n",
      "PlantDate: object\n",
      "AMF: float64\n",
      "EMF: float64\n",
      "Phenolics: float64\n",
      "Lignin: float64\n",
      "NSC: float64\n",
      "Census: int64\n",
      "Time: float64\n",
      "Event: float64\n",
      "Harvest: object\n",
      "Alive: object\n"
     ]
    }
   ],
   "source": [
    "print('-------------Columns and Data Types-------------')\n",
    "for column in df.columns:\n",
    "    print(f'{column}: {df[column].dtype}')\n"
   ]
  },
  {
   "cell_type": "code",
   "execution_count": 5,
   "metadata": {},
   "outputs": [
    {
     "data": {
      "text/plain": [
       "No                0\n",
       "Plot              0\n",
       "Subplot           0\n",
       "Species           0\n",
       "Light_ISF         0\n",
       "Light_Cat         0\n",
       "Core              0\n",
       "Soil              0\n",
       "Adult             0\n",
       "Sterile           0\n",
       "Conspecific       0\n",
       "Myco              0\n",
       "SoilMyco          0\n",
       "PlantDate         0\n",
       "AMF               0\n",
       "EMF            1500\n",
       "Phenolics         0\n",
       "Lignin            0\n",
       "NSC               0\n",
       "Census            0\n",
       "Time              0\n",
       "Event             1\n",
       "Harvest        2079\n",
       "Alive          2292\n",
       "dtype: int64"
      ]
     },
     "execution_count": 5,
     "metadata": {},
     "output_type": "execute_result"
    }
   ],
   "source": [
    "df.isnull().sum()\n"
   ]
  },
  {
   "cell_type": "markdown",
   "metadata": {},
   "source": [
    "Check to see for categorical data."
   ]
  },
  {
   "cell_type": "code",
   "execution_count": 18,
   "metadata": {},
   "outputs": [
    {
     "name": "stdout",
     "output_type": "stream",
     "text": [
      "\n",
      "Chi-square test for Subplot:\n",
      "Chi2 value: 2.7221971923551402\n",
      "P-value: 0.605336014898842\n",
      "The groups are not statistically significant.\n",
      "\n",
      "Chi-square test for Species:\n",
      "Chi2 value: 3.496670240897452\n",
      "P-value: 0.32119423624492116\n",
      "The groups are not statistically significant.\n",
      "\n",
      "Chi-square test for Light_Cat:\n",
      "Chi2 value: 0.41563099076693755\n",
      "P-value: 0.8123569064851989\n",
      "The groups are not statistically significant.\n",
      "\n",
      "Chi-square test for Soil:\n",
      "Chi2 value: 2783.0\n",
      "P-value: 0.0\n",
      "The groups are statistically significant.\n",
      "\n",
      "Chi-square test for Adult:\n",
      "Chi2 value: 191.73758893670617\n",
      "P-value: 1.624275197838986e-23\n",
      "The groups are statistically significant.\n",
      "\n",
      "Chi-square test for Sterile:\n",
      "Chi2 value: 2775.246973724918\n",
      "P-value: 0.0\n",
      "The groups are statistically significant.\n",
      "\n",
      "Chi-square test for Conspecific:\n",
      "Chi2 value: 2783.0\n",
      "P-value: 0.0\n",
      "The groups are statistically significant.\n",
      "\n",
      "Chi-square test for Myco:\n",
      "Chi2 value: 3.051287512550038\n",
      "P-value: 0.0806731654540942\n",
      "The groups are not statistically significant.\n",
      "\n",
      "Chi-square test for SoilMyco:\n",
      "Chi2 value: 2783.0\n",
      "P-value: 0.0\n",
      "The groups are statistically significant.\n",
      "\n",
      "Chi-square test for PlantDate:\n",
      "Chi2 value: 1745.4838693809666\n",
      "P-value: 0.0\n",
      "The groups are statistically significant.\n",
      "\n",
      "Chi-square test for Harvest:\n",
      "Chi2 value: 0.0\n",
      "P-value: 1.0\n",
      "The groups are not statistically significant.\n",
      "\n",
      "Chi-square test for Alive:\n",
      "Chi2 value: 0.0\n",
      "P-value: 1.0\n",
      "The groups are not statistically significant.\n"
     ]
    }
   ],
   "source": [
    "# Identify categorical columns\n",
    "categorical_columns = df.select_dtypes(include=['category', 'object']).columns\n",
    "\n",
    "# Perform chi-square test for each categorical column\n",
    "for column in categorical_columns:\n",
    "    contingency_table = pd.crosstab(df[column], df['Sterile'])\n",
    "    chi2, p, _, _ = chi2_contingency(contingency_table)\n",
    "    \n",
    "    print(f\"\\nChi-square test for {column}:\")\n",
    "    print(f\"Chi2 value: {chi2}\")\n",
    "    print(f\"P-value: {p}\")\n",
    "\n",
    "    # Check for significance (you may choose your significance level, e.g., 0.05)\n",
    "    if p < 0.05:\n",
    "        print(\"The groups are statistically significant.\")\n",
    "    else:\n",
    "        print(\"The groups are not statistically significant.\")"
   ]
  },
  {
   "cell_type": "markdown",
   "metadata": {},
   "source": [
    "'''print('-------------Selected Columns, Data Types, and Contents-------------')\n",
    "selected_columns = [\"EMF\", \"Harvest\", \"Alive\", \"Adult\", \"PlantDate\"]\n",
    "\n",
    "for column in selected_columns:\n",
    "    if column in df.columns:\n",
    "        print(f'\\n{column}: {df[column].dtype}')\n",
    "        print(df[column])\n",
    "    else:\n",
    "        print(f'\\n{column}: Column not found in the DataFrame')\n",
    "'''"
   ]
  },
  {
   "cell_type": "code",
   "execution_count": 5,
   "metadata": {},
   "outputs": [
    {
     "name": "stdout",
     "output_type": "stream",
     "text": [
      "EMF has 1500 missing values\n",
      "Event has 1 missing values\n",
      "Harvest has 2079 missing values\n",
      "Alive has 2292 missing values\n"
     ]
    }
   ],
   "source": [
    "# Check for missing values\n",
    "missing_vals = df.isnull().sum()\n",
    "\n",
    "# Print columns with missing values and counts\n",
    "for col, vals in missing_vals.items():\n",
    "    if vals > 0:\n",
    "        print(f\"{col} has {vals} missing values\")"
   ]
  },
  {
   "cell_type": "markdown",
   "metadata": {},
   "source": [
    "For analysis \"Event\" is important. So need to drop the NAN values\n"
   ]
  },
  {
   "cell_type": "code",
   "execution_count": 8,
   "metadata": {},
   "outputs": [
    {
     "data": {
      "text/plain": [
       "(2783, 24)"
      ]
     },
     "execution_count": 8,
     "metadata": {},
     "output_type": "execute_result"
    }
   ],
   "source": [
    "df.shape"
   ]
  },
  {
   "cell_type": "code",
   "execution_count": 9,
   "metadata": {},
   "outputs": [
    {
     "data": {
      "text/plain": [
       "(2782, 24)"
      ]
     },
     "execution_count": 9,
     "metadata": {},
     "output_type": "execute_result"
    }
   ],
   "source": [
    "df.dropna(subset=['Event'], inplace=True)\n",
    "df.shape"
   ]
  },
  {
   "cell_type": "code",
   "execution_count": null,
   "metadata": {},
   "outputs": [],
   "source": []
  }
 ],
 "metadata": {
  "kernelspec": {
   "display_name": "data",
   "language": "python",
   "name": "python3"
  },
  "language_info": {
   "codemirror_mode": {
    "name": "ipython",
    "version": 3
   },
   "file_extension": ".py",
   "mimetype": "text/x-python",
   "name": "python",
   "nbconvert_exporter": "python",
   "pygments_lexer": "ipython3",
   "version": "3.12.0"
  }
 },
 "nbformat": 4,
 "nbformat_minor": 2
}
